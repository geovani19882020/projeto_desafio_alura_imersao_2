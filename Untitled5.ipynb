{
  "nbformat": 4,
  "nbformat_minor": 0,
  "metadata": {
    "colab": {
      "provenance": [],
      "toc_visible": true,
      "authorship_tag": "ABX9TyMXGsuDxjD3MOUGvCiV41f2",
      "include_colab_link": true
    },
    "kernelspec": {
      "name": "python3",
      "display_name": "Python 3"
    },
    "language_info": {
      "name": "python"
    }
  },
  "cells": [
    {
      "cell_type": "markdown",
      "metadata": {
        "id": "view-in-github",
        "colab_type": "text"
      },
      "source": [
        "<a href=\"https://colab.research.google.com/github/geovani19882020/projeto_desafio_alura_imersao_2/blob/main/Untitled5.ipynb\" target=\"_parent\"><img src=\"https://colab.research.google.com/assets/colab-badge.svg\" alt=\"Open In Colab\"/></a>"
      ]
    },
    {
      "cell_type": "code",
      "source": [
        "!pip install -U google-generativeai\n",
        "import google.generativeai as genai\n",
        "from google.colab import userdata\n",
        "api_key=userdata.get('GOOGLE_API_KEY')\n",
        "genai.configure(api_key=api_key)\n",
        "import PIL.Image\n",
        "\n",
        "def get_user_image_path():\n",
        "    while True:\n",
        "        image_path = input(\"Enter the image URL or local path (e.g., /content/my_image.jpg): \")\n",
        "        if image_path.startswith(\"http\") or image_path.startswith(\"/\"):\n",
        "            return image_path\n",
        "        else:\n",
        "            print(\"Caminho inválido. Insira um URL válido ou caminho local.\")\n",
        "\n",
        "api_key = userdata.get('GOOGLE_API_KEY')\n",
        "genai.configure(api_key=api_key)\n",
        "\n",
        "for m in genai.list_models():\n",
        "    if 'generateContent' in m.supported_generation_methods:\n",
        "        print(m.name)\n",
        "\n",
        "model = genai.GenerativeModel('gemini-pro-vision')\n",
        "\n",
        "image_path = get_user_image_path()\n",
        "\n",
        "try:\n",
        "    img = PIL.Image.open(image_path)\n",
        "except FileNotFoundError:\n",
        "    print(f\"Error: Image not found at '{image_path}'.\")\n",
        "    exit(1)\n",
        "\n",
        "response = model.generate_content(img)\n",
        "print(\"Resposta 1:\", response.text)\n",
        "\n",
        "response = model.generate_content([\"Descreva a imagem \", img])\n",
        "response.resolve()\n",
        "print(\"Resposta da pergunta:\", response.text)\n"
      ],
      "metadata": {
        "id": "3D2W5RDf04g0"
      },
      "execution_count": null,
      "outputs": []
    }
  ]
}